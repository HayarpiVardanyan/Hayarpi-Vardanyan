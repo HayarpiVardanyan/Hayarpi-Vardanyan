{
  "nbformat": 4,
  "nbformat_minor": 0,
  "metadata": {
    "colab": {
      "provenance": []
    },
    "kernelspec": {
      "name": "python3",
      "display_name": "Python 3"
    }
  },
  "cells": [
    {
      "cell_type": "markdown",
      "metadata": {
        "id": "GCEodKTbRd_r"
      },
      "source": [
        "# Homework Exercises"
      ]
    },
    {
      "cell_type": "markdown",
      "metadata": {
        "id": "sM2FU5TVqX3l"
      },
      "source": [
        "## Strings"
      ]
    },
    {
      "cell_type": "markdown",
      "metadata": {
        "id": "1WbPDB3mI7MO"
      },
      "source": [
        "1. Write a program that asks the user to enter a string. The program should then print the\n",
        "following:\n",
        "\n",
        "  * The total number of characters in the string\n",
        "  * The string repeated 10 times\n",
        "  * The first character of the string \n",
        "  * The first three characters of the string\n",
        "  * The last three characters of the string\n",
        "  * The string backwards\n",
        "\n",
        "  Գրել ծրագիր, որը օգտատիրոջ մուտքագրած տեքստի (string) համար կտպի հետևյալը․\n",
        "\n",
        "  * Ընդհանուր սիմվոլների քանակը\n",
        "  * տեքստը 10 անգամ կրկնած\n",
        "  * առաջին անդամը\n",
        "  * առաջին 3 անդամները\n",
        "  * վերջին 3 անդամները\n",
        "  * տեսքտը հակառակ շրջած"
      ]
    },
    {
      "cell_type": "code",
      "metadata": {
        "id": "TXQRhmFoI6-z",
        "outputId": "a8f5dc52-8d1b-4069-f473-79372d0026e3",
        "colab": {
          "base_uri": "https://localhost:8080/"
        }
      },
      "source": [
        "text=str(input(\"Text: \"))\n",
        "print(\"total number of characters \",len(text))\n",
        "print(\"The string repeated 10 times:\",(text+\" \")*10)\n",
        "print(\"The first character of the string: \",text[0])\n",
        "print(\"The first three characters of the string:\",text[ :3])\n",
        "print(\"The last three characters of the string\",text[-3: ])\n",
        "print(\"The last three characters of the string:\",text[::-1])"
      ],
      "execution_count": 51,
      "outputs": [
        {
          "output_type": "stream",
          "name": "stdout",
          "text": [
            "Text: hayarpi\n",
            "total number of characters  7\n",
            "The string repeated 10 times: hayarpi hayarpi hayarpi hayarpi hayarpi hayarpi hayarpi hayarpi hayarpi hayarpi \n",
            "The first character of the string:  h\n",
            "The first three characters of the string: hay\n",
            "The last three characters of the string rpi\n",
            "The last three characters of the string: iprayah\n"
          ]
        }
      ]
    },
    {
      "cell_type": "markdown",
      "metadata": {
        "id": "hfFxrQ4YI6v7"
      },
      "source": [
        "2. Using for loop iterate through the string `Hello world` and count the number of 'l's in it.\n",
        "\n",
        "  Անցնել `Hello world` տեքստի վրայով և հաշվել դրա մեջ `l` տառի հաճախականությունը՝ օգտագործելով for ցիկլ։"
      ]
    },
    {
      "cell_type": "code",
      "metadata": {
        "id": "PoLfgh08VSHZ",
        "outputId": "8ab280c7-7ab2-49cc-80fc-114c8d76a54f",
        "colab": {
          "base_uri": "https://localhost:8080/"
        }
      },
      "source": [
        "text=\"Hello world\"\n",
        "count=0\n",
        "for i in range(len(text)):\n",
        "  if text[i]=='l':\n",
        "    count+=1\n",
        "print(count)"
      ],
      "execution_count": 31,
      "outputs": [
        {
          "output_type": "stream",
          "name": "stdout",
          "text": [
            "3\n"
          ]
        }
      ]
    },
    {
      "cell_type": "markdown",
      "metadata": {
        "id": "Qk-vQlp1VSPk"
      },
      "source": [
        "3. Write a program that asks the user for a string and creates a new string that doubles each character of the original string. For instance, if the user enters `Hello`, the output should be `HHeelllloo`.\n",
        "\n",
        "  Գրել ծրագիր, որը վերցնում է օգտատիրոջ կողմից մուտքագրված տեքստը և պատրաստում է նոր տեքստ, որի մեջ գրված են մուտքագրված բառի տառերը կրկնապատկված։ Օրինակ՝ `Hello` բառի համար կվերադարձնի `HHeelllloo`։"
      ]
    },
    {
      "cell_type": "code",
      "metadata": {
        "id": "Egenwe06VSWV",
        "outputId": "6c4462c2-a301-476c-c1ec-0603019f817f",
        "colab": {
          "base_uri": "https://localhost:8080/"
        }
      },
      "source": [
        "text=str(input(\"Text: \"))\n",
        "for i in range(len(text)):\n",
        " print(text[i]*2,end='')"
      ],
      "execution_count": 34,
      "outputs": [
        {
          "output_type": "stream",
          "name": "stdout",
          "text": [
            "Text: hello\n",
            "hheelllloo"
          ]
        }
      ]
    },
    {
      "cell_type": "markdown",
      "metadata": {
        "id": "ZCBZc1U1VSb7"
      },
      "source": [
        "4. Write a program that asks a user for their name and prints it in the following way:\n",
        "\n",
        "  `A Ar Arm Arme Armen`.\n",
        "\n",
        "  Hint: use a for loop.\n",
        "\n",
        "  Գրել ծրագիր, որը վերցնում է օգտատիրոջ անունը և տպում է այն հետևյալ կերպ․\n",
        "\n",
        "  `A Ar Arm Arme Armen`\n",
        "\n",
        "  Հուշում․ օգտագործել for ցիկլ։"
      ]
    },
    {
      "cell_type": "code",
      "metadata": {
        "id": "vK_7hQuuVSha",
        "outputId": "2324a5c4-96ae-4de1-a3d9-b2c7d5694cf5",
        "colab": {
          "base_uri": "https://localhost:8080/"
        }
      },
      "source": [
        "name=str(input(\"Name: \"))\n",
        "for i in range(len(name)):\n",
        "   print(name[ :i+1],end=' ')"
      ],
      "execution_count": 36,
      "outputs": [
        {
          "output_type": "stream",
          "name": "stdout",
          "text": [
            "Name: Armen\n",
            "A Ar Arm Arme Armen "
          ]
        }
      ]
    },
    {
      "cell_type": "markdown",
      "metadata": {
        "id": "RsjwjrDfVtAR"
      },
      "source": [
        "5. Write a program that removes all capitalization and common punctuation (`,.;:-?!()\\'\"`) from a\n",
        "string `s`.\n",
        "\n",
        "  Գրել ծրագիր, որը դարձնում է `s` տեքստի մեծատառերը՝ փոքրատառ և ջնջում է տեքստում առկա հետևյալ կետադրական նշանները՝ `,.;:-?!()\\'\"`։"
      ]
    },
    {
      "cell_type": "code",
      "metadata": {
        "id": "WmpM4SyDVtF4",
        "colab": {
          "base_uri": "https://localhost:8080/"
        },
        "outputId": "774aa804-395f-4357-d5f2-7bbc62f60a34"
      },
      "source": [
        "from os import replace\n",
        "s=str(input(\"Text: \"))\n",
        "s.lower()\n",
        "for i in ',.;:-?!()\\'\"':\n",
        "  s=s.replace(i,'')\n",
        "print(s)\n",
        "\n"
      ],
      "execution_count": 37,
      "outputs": [
        {
          "output_type": "stream",
          "name": "stdout",
          "text": [
            "Text: Ha()y?/arpi\n",
            "Hay/arpi\n"
          ]
        }
      ]
    },
    {
      "cell_type": "markdown",
      "metadata": {
        "id": "KgF5uPuhVtLl"
      },
      "source": [
        "6. Write a program that, given a string that contains a decimal number, prints out the\n",
        "decimal part of the number. For instance, if given `3.14159`, the program should print out `.14159`.\n",
        "\n",
        "  Գրել ծրագիր, որը վերցնում է տասնորդական թիվ՝ որպես տեքստ և տպում է դրա տասնորդական կարգը, այսինքն՝ օրինակ  `3.14159`-ի համար ծրագիրը պետք է տպի `.14159`։"
      ]
    },
    {
      "cell_type": "code",
      "metadata": {
        "id": "0gH3y-Q2VSnR",
        "outputId": "48ff9cb4-0167-4777-97ee-f6b786e9f732",
        "colab": {
          "base_uri": "https://localhost:8080/"
        }
      },
      "source": [
        "x=input(\"Number: \")\n",
        "print('.',x[x.index('.')+1:])\n",
        "     \n"
      ],
      "execution_count": 38,
      "outputs": [
        {
          "output_type": "stream",
          "name": "stdout",
          "text": [
            "Number: 3.14159\n",
            ". 14159\n"
          ]
        }
      ]
    },
    {
      "cell_type": "markdown",
      "metadata": {
        "id": "3HEZ6dl0ekny"
      },
      "source": [
        "7. A simple way to estimate the number of words in a string is to count the number of spaces\n",
        "in the string. Write a program that asks the user for a string and returns an estimate of how\n",
        "many words are in the string.\n",
        "\n",
        "  Տեքստի մեջ բառերի քանակը մոտավոր հաշվելու պարզագույն եղանակը տեքստում բացատների քանակը հաշվելն է։ Գրել ծրագիր, որը կտպի բացատների քանակը՝ օգտատիրոջ կողմից մուտքագրված տեքստում։ "
      ]
    },
    {
      "cell_type": "code",
      "metadata": {
        "id": "AgRYItgXek22",
        "outputId": "086f9473-cd37-4ebf-afee-6937f3762e72",
        "colab": {
          "base_uri": "https://localhost:8080/"
        }
      },
      "source": [
        "x=str(input(\"Text: \"))\n",
        "count=0\n",
        "for i in x:\n",
        "  if i.isspace():\n",
        "    count+=1\n",
        "print(count)"
      ],
      "execution_count": 44,
      "outputs": [
        {
          "output_type": "stream",
          "name": "stdout",
          "text": [
            "Text: h h h h h h h h \n",
            "8\n"
          ]
        }
      ]
    },
    {
      "cell_type": "markdown",
      "metadata": {
        "id": "_OkxDUHEI6kS"
      },
      "source": [
        "8. Write a program that asks the user to enter a string `s` and then converts `s` to lowercase, removes\n",
        "all the `periods` (.) and `commas` (,) from `s`, and prints the resulting string.\n",
        "\n",
        "  Գրել ծրագիր, որը օգտատիրոջից վերցնում է տեքստ, դարձնում այն փոքրատառ, վերացնում վերջակետերն (.) ու ստորակետերը (,) և տպում ստացված տեքստը։"
      ]
    },
    {
      "cell_type": "code",
      "metadata": {
        "id": "cTN0Ve60jEqT",
        "outputId": "d4be9fad-fcd1-4d62-f442-a0faeccf1458",
        "colab": {
          "base_uri": "https://localhost:8080/"
        }
      },
      "source": [
        "text=input(\"text:\")\n",
        "text=text.lower()\n",
        "for i in text:\n",
        "   if i in '.,':\n",
        "    text= text.replace(i,'')\n",
        "print(text)\n",
        "\n"
      ],
      "execution_count": 55,
      "outputs": [
        {
          "output_type": "stream",
          "name": "stdout",
          "text": [
            "text:HAY.,arpi\n",
            "hayarpi\n"
          ]
        }
      ]
    },
    {
      "cell_type": "markdown",
      "metadata": {
        "id": "xlBkRh2dVHWo"
      },
      "source": [
        "9. Write a program that asks the user to enter a word and determines whether the word is a\n",
        "`palindrome` or not. A palindrome is a word that reads the same backwards as forwards.\n",
        "\n",
        "  Գրել ծրագիր, որը օտատիրոջից վերցնում է մեկ բառ և ստուգում է արդյոք այդ բառը պալինդրոմ է, թե՝ ոչ։ Պալինդրոմ են անվանում այն բառերին, որոնք սկբից և վերջից կարդալիս նույնն են։ Օրինակ՝ ապա, Աննա, ահա, աբբգգբբա։ Բառերը կարող են իմաստ չունենալ։  \n",
        "\n"
      ]
    },
    {
      "cell_type": "code",
      "metadata": {
        "id": "TwvYtVrAVHbQ",
        "colab": {
          "base_uri": "https://localhost:8080/"
        },
        "outputId": "1cdd6a5f-da0f-47b1-bbcc-3a510967a81e"
      },
      "source": [
        "text='anna'\n",
        "text==text[::-1]"
      ],
      "execution_count": 57,
      "outputs": [
        {
          "output_type": "execute_result",
          "data": {
            "text/plain": [
              "True"
            ]
          },
          "metadata": {},
          "execution_count": 57
        }
      ]
    },
    {
      "cell_type": "markdown",
      "metadata": {
        "id": "32hdDmh3VHfY"
      },
      "source": [
        "10. Write a program that asks the user for their name and then generates the email written below for that person.\n",
        "\n",
        "  Գրել ծրագիր, որը հարցնում է օգտատիրոջ անուն, ազգանունը և տպում այդ օգտատիրոջ համար հետևյալ նամակը։ \n",
        "\n",
        "  \"Dear **Name Surname**,\n",
        "  \n",
        "  I am pleased to offer you our new special product. **Name**, you may not get such an offer every day, so I would like to ask you to call\n",
        "now. We cannot offer such a low\n",
        "rate for long, **Name**, so please call as soon as possible.\" "
      ]
    },
    {
      "cell_type": "code",
      "metadata": {
        "id": "8OmuGQjqVHjn",
        "colab": {
          "base_uri": "https://localhost:8080/"
        },
        "outputId": "7aacb304-34d3-4b40-d3de-02ae5a1c4094"
      },
      "source": [
        "name=input(\"Name: \")\n",
        "surname=input(\"Surname:\")\n",
        "print('Dear ' +name+' '+surname,'I am pleased to offer you our new special product.'+ name+', you may not get such an offer every day, so I would like to ask you to call now. We cannot offer such a low rate for long,'+name+', so please call as soon as possible.' )"
      ],
      "execution_count": 63,
      "outputs": [
        {
          "output_type": "stream",
          "name": "stdout",
          "text": [
            "Name: Hayarpi\n",
            "Surname:Vardanyan\n",
            "Dear Hayarpi Vardanyan I am pleased to offer you our new special product.Hayarpi, you may not get such an offer every day, so I would like to ask you to call now. We cannot offer such a low rate for long,Hayarpi, so please call as soon as possible.\n"
          ]
        }
      ]
    },
    {
      "cell_type": "markdown",
      "metadata": {
        "id": "_wOptjGTqTFC"
      },
      "source": [
        "## Lists"
      ]
    },
    {
      "cell_type": "markdown",
      "metadata": {
        "id": "2cUNMzReV_fd"
      },
      "source": [
        "11. Write a program that removes the repeated items from a list and leaves only the unique values in the initial order.\n",
        "\n",
        "  Գրել ծրագիր, որը կվերադարձնի list-ի յուրաքանչյուր տարր առանց կրկնության։"
      ]
    },
    {
      "cell_type": "code",
      "metadata": {
        "id": "ylT4vZLWV_pO",
        "outputId": "0c31f337-c7aa-44b7-90aa-03709897c11b",
        "colab": {
          "base_uri": "https://localhost:8080/"
        }
      },
      "source": [
        "l1=[1,5,8,4,1,5]\n",
        "[*dict.fromkeys(l1)]"
      ],
      "execution_count": 147,
      "outputs": [
        {
          "output_type": "execute_result",
          "data": {
            "text/plain": [
              "[1, 5, 8, 4]"
            ]
          },
          "metadata": {},
          "execution_count": 147
        }
      ]
    },
    {
      "cell_type": "markdown",
      "metadata": {
        "id": "CIc1nNl8V_vm"
      },
      "source": [
        "12. Write a program that counts the number of occurances of each item in the list. \n",
        "\n",
        "  Գրել ծրագիր, որը կհաշվի list-ի տարրերի հաճախականությունները։"
      ]
    },
    {
      "cell_type": "code",
      "metadata": {
        "id": "nn4LVRfSV_0t",
        "outputId": "279c42e6-14ba-4f91-b837-8ed32b6a4290",
        "colab": {
          "base_uri": "https://localhost:8080/"
        }
      },
      "source": [
        "lst = [8, 6, 8, 10, 8, 20, 10, 8, 8]\n",
        "x=8\n",
        "count =0\n",
        "for i in lst:\n",
        "  if i== x:\n",
        "    count = count + 1\n",
        "count"
      ],
      "execution_count": 74,
      "outputs": [
        {
          "output_type": "execute_result",
          "data": {
            "text/plain": [
              "5"
            ]
          },
          "metadata": {},
          "execution_count": 74
        }
      ]
    },
    {
      "cell_type": "markdown",
      "metadata": {
        "id": "aO1ojeTnWEpt"
      },
      "source": [
        "13. Write a program that generates a list of 50 random numbers between 1 and 100. Count how many items in the list are greater than 50.\n",
        "\n",
        "  Գրել ծրագիր, որը կստեղծի 50 պատահական ամբողջ թիվ 1-100 միջակայքից և կհաշվի 50-ից մեծ թվերի քանակը։"
      ]
    },
    {
      "cell_type": "code",
      "metadata": {
        "id": "RziUX7kRWEwq",
        "outputId": "72e2980d-6da3-49c6-9b1b-ec106e3eef32",
        "colab": {
          "base_uri": "https://localhost:8080/"
        }
      },
      "source": [
        "import random\n",
        "x = random.sample(range(1,101), 50)\n",
        "print(x,end=' ')\n",
        "print()\n",
        "count=0\n",
        "for i in x:\n",
        "  if i>50:\n",
        "    count+=1\n",
        "print(count,end=' ')"
      ],
      "execution_count": 148,
      "outputs": [
        {
          "output_type": "stream",
          "name": "stdout",
          "text": [
            "[75, 66, 5, 58, 95, 13, 80, 74, 29, 70, 17, 67, 47, 68, 14, 39, 33, 91, 44, 19, 26, 84, 30, 90, 21, 86, 99, 18, 53, 81, 94, 55, 41, 35, 38, 40, 52, 16, 59, 43, 20, 22, 10, 83, 32, 28, 65, 25, 49, 42] \n",
            "22 "
          ]
        }
      ]
    },
    {
      "cell_type": "markdown",
      "metadata": {
        "id": "YxseNPKzWE1L"
      },
      "source": [
        "14. Write a program that prints out the \n",
        "* total number of elements\n",
        "* sum of all elements\n",
        "* two largest and two smallest elements \n",
        "\n",
        "of a list entered by the user.\n",
        "\n",
        "  Գրել ծրագիր, որը կտպի օգտատիրոջ կողմից մուտքագրված list-ի\n",
        "  * ընդհանուր էլեմենտների քանակը\n",
        "  * բոլոր էլեմենտների գումարը\n",
        "  * երկու ամենամեծ և ամենափոքր տարրերը"
      ]
    },
    {
      "cell_type": "code",
      "metadata": {
        "id": "wzI_x4u_WE_w",
        "outputId": "3c843292-3940-4118-a137-5491db22262a",
        "colab": {
          "base_uri": "https://localhost:8080/"
        }
      },
      "source": [
        "ll=[1,2,3,4,5,6,0]\n",
        "print(\"total number of elements\",len(ll))\n",
        "print(\"sum of all elements\",sum(ll))\n",
        "ll.sort()\n",
        "print(\"two largest elements \",ll[len(ll)-1])\n",
        "print(ll[len(ll)-2])\n",
        "print(\"two smallest elements \",ll[0])\n",
        "print(ll[1])"
      ],
      "execution_count": 171,
      "outputs": [
        {
          "output_type": "stream",
          "name": "stdout",
          "text": [
            "total number of elements 7\n",
            "sum of all elements 21\n",
            "two largest elements  6\n",
            "5\n",
            "two smallest elements  0\n",
            "1\n"
          ]
        }
      ]
    },
    {
      "cell_type": "markdown",
      "metadata": {
        "id": "YUaFYy8OIHWp"
      },
      "source": [
        "15. Write a program that generates a list of 20 random numbers between 1 and 100.\n",
        "  * Print the list.\n",
        "  * Print the average of the elements in the list.\n",
        "  * Print the largest and smallest values in the list.\n",
        "  * Print the second largest and second smallest entries in the list\n",
        "  * Print how many even numbers are in the list.\n",
        "\n",
        "  Գրել ծրագիր, որը կստեղծի 1-100 միջակայքից 20 պատահական ամբողջ թվեր պարունակող list և կտպի\n",
        "  * այդ list-ը \n",
        "  * list-ի թվաբանական միջինը\n",
        "  * մեծագույն և փոքրագուն թվերը\n",
        "  * երկրորդ ամենամեծ և ամենափոքր թվերը\n",
        "  * զույգ թվերի քանակը"
      ]
    },
    {
      "cell_type": "code",
      "metadata": {
        "id": "xrSVUy31IHeV",
        "outputId": "8c888825-577c-4a6a-bd78-21baa32a0e4f",
        "colab": {
          "base_uri": "https://localhost:8080/"
        }
      },
      "source": [
        "import random\n",
        "x = random.sample(range(1,101), 20)\n",
        "print(\"Print the list.\")\n",
        "print(x,end=' ')\n",
        "print()\n",
        "s=0\n",
        "for i in range(len(x)):\n",
        "  s=s+x[i]\n",
        "print(\"Print the average of the elements in the list.\",s/20)\n",
        "print(\"Print the largest and smallest entries in the list\",max(x))\n",
        "print(min(x))\n",
        "x.sort()\n",
        "print(\"Print the second largest and second smallest entries in the list\",x[len(x)-2])\n",
        "print(x[1])\n",
        "j=0\n",
        "for i in range(len(x)):\n",
        "  if x[i]%2==0:\n",
        "      j+=1\n",
        "print(\"Count\",j)\n"
      ],
      "execution_count": 152,
      "outputs": [
        {
          "output_type": "stream",
          "name": "stdout",
          "text": [
            "Print the list.\n",
            "[70, 66, 26, 76, 68, 4, 44, 56, 95, 80, 62, 5, 20, 86, 31, 6, 29, 77, 10, 89] \n",
            "Print the average of the elements in the list. 50.0\n",
            "Print the largest and smallest entries in the list 95\n",
            "4\n",
            "Print the second largest and second smallest entries in the list 89\n",
            "5\n",
            "Count 14\n"
          ]
        }
      ]
    },
    {
      "cell_type": "markdown",
      "metadata": {
        "id": "FgcH-562IHlB"
      },
      "source": [
        "16. Ask the user to enter a list containing numbers between 1 and 12. Then replace all of the\n",
        "entries in the list that are greater than 8 with 8 And prints the resulting list.\n",
        "\n",
        "  Գրել ծրագիր, որը վերցնում է օգտատիրոջ կողմից մուտքագրված 1-ից 12 ամբողջ թվեր, փոխարինում 8-ից մեծ թվերը 8-ով և տպում է ստացված list-ը։"
      ]
    },
    {
      "cell_type": "code",
      "metadata": {
        "id": "KMqAiNsGIHsU",
        "outputId": "bd1827f9-dfe5-4c18-c689-49baedbe43cb",
        "colab": {
          "base_uri": "https://localhost:8080/"
        }
      },
      "source": [
        "l=[]\n",
        "for i in range(12):\n",
        "    num=int(input(\"Enter a number: \"))\n",
        "    l.append(num)\n",
        "for i in l:\n",
        "    if i>8:\n",
        "        l[l.index(i)]=8\n",
        "print(l,end=' ')"
      ],
      "execution_count": 169,
      "outputs": [
        {
          "output_type": "stream",
          "name": "stdout",
          "text": [
            "Enter a number: 1\n",
            "Enter a number: 2\n",
            "Enter a number: 3\n",
            "Enter a number: 4\n",
            "Enter a number: 5\n",
            "Enter a number: 6\n",
            "Enter a number: 7\n",
            "Enter a number: 8\n",
            "Enter a number: 9\n",
            "Enter a number: 10\n",
            "Enter a number: 11\n",
            "Enter a number: 12\n",
            "[1, 2, 3, 4, 5, 6, 7, 8, 8, 8, 8, 8] "
          ]
        }
      ]
    },
    {
      "cell_type": "markdown",
      "metadata": {
        "id": "IicCIcQvIHxY"
      },
      "source": [
        "17. Ask the user to enter a list of strings. Create a new list that consists of those strings with their\n",
        "first characters removed.\n",
        "\n",
        "  Օգտատիրոջ կողմից պետք է մուտքագրվի string-ների list, այնուհետև պահանջվում է ստեղծել նոր list, որտեղ կլինեն նույն string-ները, բայց առանց առաջին սիմվոլի։ Օրինակ՝ \n",
        "  `['!dog', '+cat']` $\\to$ `['dog', 'cat']`"
      ]
    },
    {
      "cell_type": "code",
      "metadata": {
        "id": "gW2JdxzWIH4g",
        "outputId": "ee879054-280b-4531-d586-7d90b480bdd1",
        "colab": {
          "base_uri": "https://localhost:8080/"
        }
      },
      "source": [
        "l1 = eval(input(\"Enter a list of strings: \"))\n",
        "l2 = []\n",
        "for i in range(len(l1)):\n",
        "    l2.append(l1[i][1:])\n",
        "print(\"List after removing first characters:\")\n",
        "print(l2)"
      ],
      "execution_count": 131,
      "outputs": [
        {
          "output_type": "stream",
          "name": "stdout",
          "text": [
            "Enter a list of strings: \"!dog\", \"+cat\"\n",
            "List after removing first characters:\n",
            "['dog', 'cat']\n"
          ]
        }
      ]
    },
    {
      "cell_type": "markdown",
      "metadata": {
        "id": "MEC70di4IH_O"
      },
      "source": [
        "18. Write a program that generates 100 random integers that are either 0 or 1. Then find the largest number of zeros in a row. For instance, the longest run of\n",
        "zeros in `[1,0,1,1,0,0,0,0,1,0,0]` is 4. \n",
        "\n",
        "  Գրել ծրագիր, որը կստեղծի 100 պատահական 0-ներ և 1-եր, ապա կհաշվի թե ամենաշատը քանի իրար հաջորդող 0-ներ կան տվյալ list-ի մեջ։ Օրինակ՝ այս դեպքում `[1,0,1,1,0,0,0,0,1,0,0]` այդ թիվը կլինի 4-ը.  "
      ]
    },
    {
      "cell_type": "code",
      "metadata": {
        "id": "wU6-9X9zIIFe",
        "outputId": "a4ea9fbd-07d5-4308-f6cb-5e49cf84efc3",
        "colab": {
          "base_uri": "https://localhost:8080/"
        }
      },
      "source": [
        "l3=[]\n",
        "for j in range(0,100):\n",
        "  x = random.randint(0,1)\n",
        "  l3.append(x)\n",
        "print (l3)\n",
        "c = 0\n",
        "max_count = 0\n",
        "for j in l3:\n",
        "  if j == 0:\n",
        "    c += 1\n",
        "  else:\n",
        "    if c > max_count:\n",
        "      max_count = c\n",
        "    c = 0\n",
        "print(max_count)"
      ],
      "execution_count": 179,
      "outputs": [
        {
          "output_type": "stream",
          "name": "stdout",
          "text": [
            "[0, 0, 1, 0, 1, 1, 1, 0, 0, 0, 0, 1, 1, 0, 0, 1, 0, 0, 1, 0, 0, 1, 1, 0, 1, 1, 1, 0, 0, 0, 1, 0, 1, 0, 1, 1, 0, 0, 1, 0, 0, 1, 1, 1, 0, 0, 0, 1, 0, 1, 0, 1, 1, 0, 0, 0, 1, 0, 1, 1, 0, 1, 1, 0, 0, 0, 0, 1, 1, 0, 1, 0, 0, 1, 1, 1, 0, 1, 1, 0, 0, 0, 0, 0, 0, 1, 1, 1, 1, 0, 0, 1, 0, 0, 0, 0, 0, 1, 1, 1]\n",
            "6\n"
          ]
        }
      ]
    },
    {
      "cell_type": "markdown",
      "metadata": {
        "id": "DX4939I0Kdqt"
      },
      "source": [
        "19. Create the following lists using list comprehension.\n",
        "\n",
        "  * A list consisting of the even integers 0 through 49\n",
        "  * A list containing the squares of the integers 1 through 50 that are divisible by 3.\n",
        "\n",
        "  Ստեղծել հետևյալ list-երը օգտագործելով list comprehension մեթոդը։\n",
        "\n",
        "  * 0-ից 49 զույգ ամբողջ թվերը\n",
        "  * 1-ից 50 ամողջ թվերից 3-ի բաժանվողների քառակուսիները"
      ]
    },
    {
      "cell_type": "code",
      "metadata": {
        "id": "bAKqzpv6KfDJ",
        "outputId": "97f4e1a5-9d6d-4b71-a7e8-df503dca5ab4",
        "colab": {
          "base_uri": "https://localhost:8080/"
        }
      },
      "source": [
        "L = [i for i in range(0,50,2)]\n",
        "print(\"A list consisting of the even integers 0 through 49\")\n",
        "print(L,end='')\n",
        "l=[i*i for i in range(1,51) if i%3==0]\n",
        "print(\"\\nA list containing the squares of the integers 1 through 50 that are divisible by 3.\")\n",
        "print(l,end=' ')"
      ],
      "execution_count": 143,
      "outputs": [
        {
          "output_type": "stream",
          "name": "stdout",
          "text": [
            "A list consisting of the even integers 0 through 49\n",
            "[0, 2, 4, 6, 8, 10, 12, 14, 16, 18, 20, 22, 24, 26, 28, 30, 32, 34, 36, 38, 40, 42, 44, 46, 48]\n",
            "A list containing the squares of the integers 1 through 50 that are divisible by 3.\n",
            "[9, 36, 81, 144, 225, 324, 441, 576, 729, 900, 1089, 1296, 1521, 1764, 2025, 2304] "
          ]
        }
      ]
    },
    {
      "cell_type": "markdown",
      "metadata": {
        "id": "NKP8JTNb6z5P"
      },
      "source": [
        "# Dictionaries, Tuples, Sets"
      ]
    },
    {
      "cell_type": "markdown",
      "metadata": {
        "id": "ms2qt7pe6wKD"
      },
      "source": [
        "20. Write a program that uses a dictionary that contains ten user names and passwords. The\n",
        "program should ask the user to enter their username and password. If the username is not in\n",
        "the dictionary, the program should indicate that the person is not a valid user of the system. If\n",
        "the username is in the dictionary, but the user does not enter the right password, the program\n",
        "should say that the password is invalid. If the password is correct, then the program should\n",
        "tell the user that they are now logged in to the system.\n",
        "\n",
        "  Գրել ծրագիր, որը օգտագործում է dictionary, որպեսզի պահի 10 օգտատերերի հաշվիների անունները և գաղտնաբառերը։ Ծրագիրը օգտատիրոջից պահանջում է մուտքագրել անունը և գաղտնաբառը, որոնց չհամընկնելու դեպքում ծրագիրը պետք է տեղեկացնի դրա մասին նշելով թե որ ինչը չի համընկել․ անունը թե գաղտնաբառը։ Եթե գաղտնաբառը ճիշտ է, ապա ծրագիրը պետք է հայտնի, որ օգտատերը արդեն մուտք է գործել համակարգ։"
      ]
    },
    {
      "cell_type": "code",
      "metadata": {
        "id": "HpvGvAxs6yzr"
      },
      "source": [],
      "execution_count": null,
      "outputs": []
    },
    {
      "cell_type": "markdown",
      "metadata": {
        "id": "otpqwn7s67XR"
      },
      "source": [
        "21. Repeatedly ask the user to enter a team name and the how many games the team won and\n",
        "how many they lost. Store this information in a dictionary where the keys are the team names\n",
        "and the values are tuples of the form (wins, losses). Using the dictionary created above,\n",
        "\n",
        "  1. allow the user to enter a team name and print out\n",
        "the team's winning percentage.\n",
        "  2. create a list whose entries are the number of wins of each team.\n",
        "  3. print the name of the team with the most number of losses.\n",
        "\n",
        "  Գրել ծրագիր, որը կվերցնի օգտատիրոջից ինչ-որ թիմի անուն և տեղեկատվություն այդ թիմի հաղթանակների և պարտությունների քանակների մասին։ Տվյալները պետք է պահել dictionary-ի մեջ, որտեղ բանալիները կլինեն մուտքագրված թիմերի անունները, իսկ արժեքները կլինեն (հաղթանակներ, պարտություններ) ֆորմատով tuple: Օգտագործելով վերոնշյալ dictionary-ն\n",
        "  \n",
        "  1. տպել օգտատիրոջ կողմից նշված թիմի հաղթանակների տոկոսը։ \n",
        "  2. ստեղծել list, որի տարրերը կլինեն յուրաքանչյուր թիմի հաղթանակների քանակները։\n",
        "  3. տպել ամենաշատը պարտված թիմի անունը։"
      ]
    },
    {
      "cell_type": "code",
      "metadata": {
        "id": "hBhvQFQM67h_"
      },
      "source": [],
      "execution_count": null,
      "outputs": []
    },
    {
      "cell_type": "markdown",
      "metadata": {
        "id": "fPmRTK6w67nC"
      },
      "source": [
        "22. Repeatedly ask the user to enter game scores in a format like `team1 score1 - team2 score2`. Store\n",
        "this information in a dictionary where the keys are the team names and the values are tuples of\n",
        "the form (wins, losses).\n",
        "\n",
        "  Գրել ծրագիր, որը օգտատիրոջից վերցնում է խաղերի հաշվի տեղեկատվություն հետևյալ ֆորմատով՝ `team1 score1 - team2 score2` և ստեղծում է dictionary-ի, որտեղ բանալիները կլինեն թիմերի անունները, իսկ արժեքները կլինեն tuple-ներ՝ հաղթանակների և պարտությունների քանակներից կազմված։"
      ]
    },
    {
      "cell_type": "code",
      "metadata": {
        "id": "vfNjpUUk67sA",
        "colab": {
          "base_uri": "https://localhost:8080/",
          "height": 84
        },
        "outputId": "edad7cf2-131c-484b-ea94-76060ba34abf"
      },
      "source": [
        "# Pyunik 3 - Mika 2\n",
        "# Pyunik 1 - Ararat 2"
      ],
      "execution_count": null,
      "outputs": [
        {
          "output_type": "stream",
          "text": [
            "Pyunik 3 - Mika 2\n",
            "Pyunik 1 - Ararat 2\n",
            "\n",
            "{'Pyunik': (1, 1), 'Mika': (0, 1), 'Ararat': (1, 0)}\n"
          ],
          "name": "stdout"
        }
      ]
    },
    {
      "cell_type": "markdown",
      "metadata": {
        "id": "4Wh2rYRD67ww"
      },
      "source": [
        "23.  Create a $5 \\times 5$ list of numbers. Then write a program that creates a dictionary whose keys are\n",
        "the numbers and whose values are the how many times the number occurs. Then print the three most common numbers.\n",
        "\n",
        "  Ստեղծել $5 \\times 5$ չափսի մատրից (list-երի list), այնուհետև ստեղծել dictionary, որտեղ բանալիները կլինեն մատրիցի թվերը, իսկ արժեքները կլինեն այդ թվերի հաճախականությունները (քանի անգամ են հանդիպում) այդ մատրիցի մեջ։ Տպել 3 ամենաշատ հանդիպող թվերը։\n"
      ]
    },
    {
      "cell_type": "code",
      "metadata": {
        "id": "OhCE05K4671x"
      },
      "source": [],
      "execution_count": null,
      "outputs": []
    },
    {
      "cell_type": "markdown",
      "metadata": {
        "id": "7zQ_28J07RVg"
      },
      "source": [
        "24. Write a program that reads through the given list of dictionaries and prints the following:\n",
        "  1. All the users whose phone number ends in an 8\n",
        "  2. All the users that don't have an email address listed\n",
        "\n",
        "  Գրել ծրագիր, որը կմշակի տրված list-ը և կտպի հետևյալը․\n",
        "  1. Բոլոր օգտատերերի անունները՝ ում հեռախոսի համարը վերջանում է 8-ով\n",
        "  2. Բոլոր օգտատերերի անունները՝ ովքեր չունեն կցված email հասցե։\n",
        "\n"
      ]
    },
    {
      "cell_type": "code",
      "metadata": {
        "id": "4CPu6-m87UQj"
      },
      "source": [
        "d = [{'name':'Todd', 'phone':'555-1414', 'email':'todd@mail.net'},\n",
        "    {'name':'Helga', 'phone':'555-1618', 'email':'helga@mail.net'},\n",
        "    {'name':'Princess', 'phone':'555-3141', 'email':''},\n",
        "    {'name':'LJ', 'phone':'555-2718', 'email':'lj@mail.net'}]\n",
        "\n",
        "\n"
      ],
      "execution_count": null,
      "outputs": []
    },
    {
      "cell_type": "markdown",
      "metadata": {
        "id": "6WjRITsC7V95"
      },
      "source": [
        "25. Write a program that prints the unique even numbers from a given tuple by the user with the help of set properties.\n",
        "\n",
        "  Գրել ծրագիր, որը կտպի օգտատիրոջ կողմից մուտքագրված tuple-ի զույգ թվերը (առանց կրկնության) oգտվելով set-երի հատկությունից։ "
      ]
    },
    {
      "cell_type": "code",
      "metadata": {
        "id": "vAxnEan27ZjH"
      },
      "source": [],
      "execution_count": null,
      "outputs": []
    }
  ]
}