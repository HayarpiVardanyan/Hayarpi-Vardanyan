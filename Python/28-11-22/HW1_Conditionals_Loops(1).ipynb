{
  "nbformat": 4,
  "nbformat_minor": 0,
  "metadata": {
    "colab": {
      "provenance": []
    },
    "kernelspec": {
      "name": "python3",
      "display_name": "Python 3"
    }
  },
  "cells": [
    {
      "cell_type": "markdown",
      "metadata": {
        "id": "mUHLJQsJaMNt"
      },
      "source": [
        "# Exercises"
      ]
    },
    {
      "cell_type": "markdown",
      "metadata": {
        "id": "GCEodKTbRd_r"
      },
      "source": [
        "## Conditionals"
      ]
    },
    {
      "cell_type": "markdown",
      "metadata": {
        "id": "YUaFYy8OIHWp"
      },
      "source": [
        "Problem1. (3 points) Write a program that asks the user to provide an integer that specifies a person's age, and according to that value print whether the person is a **child** (0-14), **young** (15-24), **adult** (25-64) or **senior** (more than 64).\n",
        "\n",
        "  Գրել ծրագիր, որը օգտատիրոջից վերցնում է տվյալ անձի տարիքը որպես ամբողջ թիվ և կախված այդ թվից տպում է **child** (0-14), **young** (15-24), **adult** (25-64) or **senior** (more than 64)։ "
      ]
    },
    {
      "cell_type": "code",
      "metadata": {
        "id": "xrSVUy31IHeV",
        "outputId": "ee583cc6-3bb1-4670-8046-780100fbfc40",
        "colab": {
          "base_uri": "https://localhost:8080/"
        }
      },
      "source": [
        "age=int(input(\"Age=\"))\n",
        "if(0<=age<=14):\n",
        "  print(\"child\")\n",
        "elif(15<=age<=24):\n",
        "  print(\"young\")\n",
        "elif(25<=age<=64):\n",
        "  print(\"adult\")\n",
        "elif(age>=64):\n",
        "  print(\"senior\")\n",
        "else:\n",
        "  print(\"error\")\n"
      ],
      "execution_count": 1,
      "outputs": [
        {
          "output_type": "stream",
          "name": "stdout",
          "text": [
            "Age=25\n",
            "adult\n"
          ]
        }
      ]
    },
    {
      "cell_type": "markdown",
      "metadata": {
        "id": "FgcH-562IHlB"
      },
      "source": [
        "Problem2. (9 points) A year is a leap year (նահանջ տարի) if it is divisible by 4, except that years divisible by 100 are not leap years\n",
        "unless they are also divisible by 400. Write a program that asks the user for a year and prints\n",
        "out whether it is a leap year or not.\n",
        "\n",
        "  Տարին *նահանջ տարի* է, եթե տարեթիվը բաժանվում է 4-ի, բացառությամբ այն տարեթվերի, որոնք բաժանվում են 100-ի և չեն բաժանվում 400-ի վրա։ Գրել ծրագիր, որը վերցնում է օգտատիրոջ ներմուծած տարեթիվը և տպում արդյոք դա նահանջ տարի է, թե չէ։"
      ]
    },
    {
      "cell_type": "code",
      "metadata": {
        "id": "KMqAiNsGIHsU",
        "outputId": "098551c8-6892-4c39-ba8d-5cd26519082f",
        "colab": {
          "base_uri": "https://localhost:8080/"
        }
      },
      "source": [
        "num=int(input(\"Year:  \"))\n",
        "if(num%4==0 and num%100!=0 and num%400!=0):\n",
        "  print(\" A year is a leap year \")\n",
        "else:\n",
        "  print(\"error\")\n",
        "     \n"
      ],
      "execution_count": 2,
      "outputs": [
        {
          "output_type": "stream",
          "name": "stdout",
          "text": [
            "Year:  2020\n",
            " A year is a leap year \n"
          ]
        }
      ]
    },
    {
      "cell_type": "markdown",
      "metadata": {
        "id": "IicCIcQvIHxY"
      },
      "source": [
        "Problem3. (3 points) Write a program that asks the user to provide three numbers. The the program should check whether the third number is the product of the first two, and if so it should display **True**, otherwise **False**. For example, in case of $2,4,8$ the output should be True because $2\\cdot 4=8$\n",
        "\n",
        "Գրել ծրագիր, որը օգտատիրոջից վերցնում է 3 թվեր և ստուգում՝ արդյոք երրորդ թիվը առաջին երկուսի արտադրյալն է, թե ոչ։ Առաջին դեպքում պետք է տպել **True**, հակառակ դեպքում՝ **False**։ Օրինակ՝ $2,4,8$ թվերի դեպքում կլինի **True**, քանի որ $2\\cdot 4=8$"
      ]
    },
    {
      "cell_type": "code",
      "metadata": {
        "id": "gW2JdxzWIH4g",
        "outputId": "a0d1e9d1-978b-4b1b-f4aa-e281cbe6335a",
        "colab": {
          "base_uri": "https://localhost:8080/"
        }
      },
      "source": [
        "\n",
        "x=int(input(\"x=\"))\n",
        "y=int(input(\"y=\"))\n",
        "z=int(input(\"z=\"))\n",
        "if(z==x*y):\n",
        "  print(\"True\")\n",
        "else:\n",
        "  print(\"False\")"
      ],
      "execution_count": 3,
      "outputs": [
        {
          "output_type": "stream",
          "name": "stdout",
          "text": [
            "x=8\n",
            "y=10\n",
            "z=6\n",
            "False\n"
          ]
        }
      ]
    },
    {
      "cell_type": "markdown",
      "metadata": {
        "id": "MEC70di4IH_O"
      },
      "source": [
        "Problem4. (9 points) Write a program that asks the user for an hour between 1 and 12, asks them to enter **am** or **pm** [[1]](https://en.wikipedia.org/wiki/12-hour_clock),\n",
        "and asks them how many hours into the future they want to go. Print out what the hour will be after adding the last number, printing *am* or *pm* as appropriate. An example is shown\n",
        "below.\n",
        "\n",
        "  Գրել ծրագիր, որում օգտատերը ներմուծում է 1-12 թիվ (որպես ժամ), ինչպես նաև `am` կամ `pm` (իմանալ ավելին [այստեղ](https://en.wikipedia.org/wiki/12-hour_clock))։ Այնուհետև օգտատիրոջից վերցնում է մի թիվ, որը ցույց է տալիս թե քանի ժամ է ուզում գումարել սկզբնական ժամին։ Ծրագիրը պետք է վերադարձնի ժամերի գումարը և նշի արդյոք դա `am` է, թե `pm`: Օրինակ՝ \n",
        "\n",
        "\n",
        "*Enter hour: 8* \n",
        "\n",
        "*am (1) or pm (2)? 1*\n",
        "\n",
        "*How many hours ahead? 5*\n",
        "\n",
        "*New hour: 1 pm*"
      ]
    },
    {
      "cell_type": "code",
      "metadata": {
        "id": "wU6-9X9zIIFe",
        "outputId": "49c01f18-ae40-4f6c-8f2c-b5f05947426b",
        "colab": {
          "base_uri": "https://localhost:8080/"
        }
      },
      "source": [
        "hour=int(input(\"Enter hour:  \"))\n",
        "am_pm=int(input(\"am(1) or pm(2)? \"))\n",
        "hour1=int(input(\"How many hours ahead? \"))\n",
        "if(1<=hour<=12):\n",
        "  hour2=hour+hour1\n",
        "if(am_pm==1 and hour2>12):\n",
        " print(hour2-12,\"pm\")\n",
        "elif(am_pm==2 and hour2>12):\n",
        "  print(hour2,\"am\")\n",
        "else:\n",
        "  print(\"Error\")"
      ],
      "execution_count": 4,
      "outputs": [
        {
          "output_type": "stream",
          "name": "stdout",
          "text": [
            "Enter hour:  8\n",
            "am(1) or pm(2)? 1\n",
            "How many hours ahead? 5\n",
            "1 pm\n"
          ]
        }
      ]
    },
    {
      "cell_type": "markdown",
      "metadata": {
        "id": "DX4939I0Kdqt"
      },
      "source": [
        "Problem5. (4 points) A company decided to give bonus of $5\\%$ to those employees whose experience in the company is more than $5$ years.\n",
        "Ask the user for their salary and number of working years and print the net bonus amount, otherwise print **No bonus**.\n",
        "\n",
        "  Ինչ-որ ընկերություն որոշել է տրամադրել $5\\%$ բոնուս այն աշխատակիցներին, ովքեր աշխատանքային փորձը գերազանցում է 5 տարին։ Օգտատիրոջ կողմից մուտքագրված աշխատավարձի և աշխատանքային տարիների տվյալի հիման վրա անհրաժեշտ է հաշվել և տպել ստացվելիք զուտ բոնուսի չափը, հակառակ դեպքում տպել **No bonus**։"
      ]
    },
    {
      "cell_type": "code",
      "metadata": {
        "id": "bAKqzpv6KfDJ",
        "outputId": "d5873f3f-a486-453b-b4dc-63fbae37216f",
        "colab": {
          "base_uri": "https://localhost:8080/"
        }
      },
      "source": [
        "salary=int(input(\"salary: \"))\n",
        "w_year=int(input(\"working years:  \"))\n",
        "if(w_year>5):\n",
        "  print(salary*5/100)\n",
        "else:\n",
        "  print(\"No bonus\")\n",
        "     \n"
      ],
      "execution_count": 5,
      "outputs": [
        {
          "output_type": "stream",
          "name": "stdout",
          "text": [
            "salary: 15000000\n",
            "working years:  6\n",
            "750000.0\n"
          ]
        }
      ]
    },
    {
      "cell_type": "markdown",
      "metadata": {
        "id": "0N7CjkxwY3Jj"
      },
      "source": [
        "## while loop"
      ]
    },
    {
      "cell_type": "markdown",
      "metadata": {
        "id": "DyI6E4pMY3TW"
      },
      "source": [
        "Problem6. (9 points) Rewrite the code using a **while** loop to accomplish the same thing.\n",
        "\n",
        "  Գրել նշված ծրագիրը **while** ցիկլով։\n",
        "\n",
        "`for i in range(1, 51):`\n",
        "\n",
        "           `print(i)`\n"
      ]
    },
    {
      "cell_type": "code",
      "metadata": {
        "id": "xXnFBwF6Y3aG",
        "outputId": "8a942082-3a70-4365-b70d-6d2fa31e0609",
        "colab": {
          "base_uri": "https://localhost:8080/"
        }
      },
      "source": [
        "i=1\n",
        "while i<50:\n",
        "  i=i+1\n",
        "  print(i)"
      ],
      "execution_count": 8,
      "outputs": [
        {
          "output_type": "stream",
          "name": "stdout",
          "text": [
            "2\n",
            "3\n",
            "4\n",
            "5\n",
            "6\n",
            "7\n",
            "8\n",
            "9\n",
            "10\n",
            "11\n",
            "12\n",
            "13\n",
            "14\n",
            "15\n",
            "16\n",
            "17\n",
            "18\n",
            "19\n",
            "20\n",
            "21\n",
            "22\n",
            "23\n",
            "24\n",
            "25\n",
            "26\n",
            "27\n",
            "28\n",
            "29\n",
            "30\n",
            "31\n",
            "32\n",
            "33\n",
            "34\n",
            "35\n",
            "36\n",
            "37\n",
            "38\n",
            "39\n",
            "40\n",
            "41\n",
            "42\n",
            "43\n",
            "44\n",
            "45\n",
            "46\n",
            "47\n",
            "48\n",
            "49\n",
            "50\n"
          ]
        }
      ]
    },
    {
      "cell_type": "markdown",
      "metadata": {
        "id": "LN3WNPA8Y3fE"
      },
      "source": [
        "Problem7. (9 points) Write a program with **while** loop, to play the following game. The player starts with $\\$100$. On each\n",
        "turn a coin is flipped and the player has to guess heads or tails. The player wins $\\$9$ for each\n",
        "correct guess and loses $\\$10$ for each incorrect guess. The game ends either when the player\n",
        "runs out of money or gets to $\\$200$.\n",
        "\n",
        "  Գրել ծրագիր **while** ցիկլով, որը կխաղա հետևյալ խաղը․ խաղացողը սկսում է $\\$100$-ով և յուրաքանչյուր քայլում նետվում է մետաղադրամ, իսկ խաղացողը պետք է գուշակի արդյոք ղուշ է ստացվել, թե գիր։ Յուրաքանչյուր ճիշտ գուշակածի համար խաղացողը ստանում է $\\$9$ և կորցնում է $\\$10$ յուրաքանչյուր սխալի դեպքում։ Խաղն ավարտվում է, եթե խաղացողը կորցնում է ամբողջ գումարը կամ հավաքում է $\\$200$:"
      ]
    },
    {
      "cell_type": "code",
      "metadata": {
        "id": "c78pu3CXY3j1",
        "outputId": "34976b63-e453-4520-e518-050830977c48",
        "colab": {
          "base_uri": "https://localhost:8080/"
        }
      },
      "source": [
        "import random\n",
        "money = 100\n",
        "\n",
        "while 0 < money < 200:\n",
        "  x = random.randint(1, 2)\n",
        "  y= int(input(\"Write  head(1) or tail(2)\"))\n",
        "  if x == y:\n",
        "    money += 9\n",
        "    print(money, \"$\")\n",
        "  else:\n",
        "    money -=10\n",
        "    print(money, \"$\")\n",
        "     \n",
        "\n",
        "     \n"
      ],
      "execution_count": 54,
      "outputs": [
        {
          "output_type": "stream",
          "name": "stdout",
          "text": [
            "Write  head(1) or tail(2)1\n",
            "90 $\n",
            "Write  head(1) or tail(2)1\n",
            "99 $\n",
            "Write  head(1) or tail(2)2\n",
            "89 $\n",
            "Write  head(1) or tail(2)2\n",
            "79 $\n",
            "Write  head(1) or tail(2)1\n",
            "69 $\n",
            "Write  head(1) or tail(2)2\n",
            "59 $\n",
            "Write  head(1) or tail(2)2\n",
            "49 $\n",
            "Write  head(1) or tail(2)1\n",
            "39 $\n",
            "Write  head(1) or tail(2)1\n",
            "48 $\n",
            "Write  head(1) or tail(2)2\n",
            "38 $\n",
            "Write  head(1) or tail(2)2\n",
            "47 $\n",
            "Write  head(1) or tail(2)1\n",
            "56 $\n",
            "Write  head(1) or tail(2)1\n",
            "65 $\n",
            "Write  head(1) or tail(2)1\n",
            "55 $\n",
            "Write  head(1) or tail(2)1\n",
            "45 $\n",
            "Write  head(1) or tail(2)1\n",
            "54 $\n",
            "Write  head(1) or tail(2)2\n",
            "63 $\n",
            "Write  head(1) or tail(2)2\n",
            "53 $\n",
            "Write  head(1) or tail(2)2\n",
            "43 $\n",
            "Write  head(1) or tail(2)2\n",
            "52 $\n",
            "Write  head(1) or tail(2)2\n",
            "42 $\n",
            "Write  head(1) or tail(2)2\n",
            "51 $\n",
            "Write  head(1) or tail(2)2\n",
            "60 $\n",
            "Write  head(1) or tail(2)2\n",
            "69 $\n",
            "Write  head(1) or tail(2)2\n",
            "59 $\n",
            "Write  head(1) or tail(2)2\n",
            "49 $\n",
            "Write  head(1) or tail(2)2\n",
            "58 $\n",
            "Write  head(1) or tail(2)2\n",
            "48 $\n",
            "Write  head(1) or tail(2)2\n",
            "38 $\n",
            "Write  head(1) or tail(2)2\n",
            "47 $\n",
            "Write  head(1) or tail(2)2\n",
            "37 $\n",
            "Write  head(1) or tail(2)2\n",
            "27 $\n",
            "Write  head(1) or tail(2)2\n",
            "17 $\n",
            "Write  head(1) or tail(2)1\n",
            "7 $\n",
            "Write  head(1) or tail(2)2\n",
            "-3 $\n"
          ]
        }
      ]
    },
    {
      "cell_type": "markdown",
      "metadata": {
        "id": "5Q2uHy0LY3od"
      },
      "source": [
        "Problem8. (9 points) Write a program with **while** loop to create the multiplication table (from 1 to 10) of the given number by the user.\n",
        "\n",
        "  Գրել ծրագիր **while** ցիկլով, որը կտպի օգտատիրոջ կողմից տրված թվի բազմապատկման աղյուսակը (թիվը բազմապատկած 1-ից 10 ամբողջ թվերով)։ Օրինակ՝ 2 թվի համար կլինի\n",
        "\n",
        "  `2 x 1 = 2`\n",
        "\n",
        "  `2 x 2 = 4`\n",
        "\n",
        "  `2 x 3 = 6`\n",
        "\n",
        "  `...`\n",
        "\n",
        "  `2 x 10 = 20`\n",
        "\n"
      ]
    },
    {
      "cell_type": "code",
      "metadata": {
        "id": "jTHfgLx8Y3uR",
        "colab": {
          "base_uri": "https://localhost:8080/"
        },
        "outputId": "1f447e0c-5559-4c62-9052-0a7c5993868e"
      },
      "source": [
        "x = int(input(\"Enter Your Number: \"))\n",
        "for y in range(1,11):\n",
        "  print(x,\"*\",y,\"=\",y*x)"
      ],
      "execution_count": 42,
      "outputs": [
        {
          "output_type": "stream",
          "name": "stdout",
          "text": [
            "Enter Your Number: 5\n",
            "5 * 1 = 5\n",
            "5 * 2 = 10\n",
            "5 * 3 = 15\n",
            "5 * 4 = 20\n",
            "5 * 5 = 25\n",
            "5 * 6 = 30\n",
            "5 * 7 = 35\n",
            "5 * 8 = 40\n",
            "5 * 9 = 45\n",
            "5 * 10 = 50\n"
          ]
        }
      ]
    },
    {
      "cell_type": "markdown",
      "metadata": {
        "id": "htmsWR2NZtlP"
      },
      "source": [
        "## for loop"
      ]
    },
    {
      "cell_type": "markdown",
      "metadata": {
        "id": "47iO-RfmZtsK"
      },
      "source": [
        "Problem9. (9 points) Write a program that uses a for loop to print the numbers 100, 98, 96, . . . , 4, 2.\n",
        "\n",
        "  Գրել ծրագիր, որը օգտագործելով **for** ցիկլ կտպի թվերի հետևյալ հաջորդականությունը 100, 98, 96, . . . , 4, 2․"
      ]
    },
    {
      "cell_type": "code",
      "metadata": {
        "id": "t1aU-LZrZtxF",
        "outputId": "7467c0ec-983c-461a-cd07-0db4a0b99aa4",
        "colab": {
          "base_uri": "https://localhost:8080/"
        }
      },
      "source": [
        "for i in range(100,1,-2):\n",
        "  print(i,end=',')"
      ],
      "execution_count": 27,
      "outputs": [
        {
          "output_type": "stream",
          "name": "stdout",
          "text": [
            "100,98,96,94,92,90,88,86,84,82,80,78,76,74,72,70,68,66,64,62,60,58,56,54,52,50,48,46,44,42,40,38,36,34,32,30,28,26,24,22,20,18,16,14,12,10,8,6,4,2,"
          ]
        }
      ]
    },
    {
      "cell_type": "markdown",
      "metadata": {
        "id": "OQ5QTqmrZxbV"
      },
      "source": [
        "Problem10. (9 points) Write a program that asks the user for their name and how many times to print it. The program\n",
        "should print out the user's name the specified number of times on the same line separated with a space.\n",
        "\n",
        "  Գրել ծրագիր, որը կվերցնի օգտատիրոջ անունը և մի թիվ, որը կներկայացնի թե քանի անգամ պետք է տպել այդ անունը։ Ծրագիրը պետք է տպի այդ անունը նշված քանակությամբ նույն տողում (բացատով առանձնացված)։"
      ]
    },
    {
      "cell_type": "code",
      "metadata": {
        "id": "-2gUnWUnZxfl",
        "outputId": "8e64146d-31b1-46ef-a07c-1ef28c176a7b",
        "colab": {
          "base_uri": "https://localhost:8080/"
        }
      },
      "source": [
        "name=str(input(\"Name:  \"))\n",
        "number=int(input(\"Number: \"))\n",
        "i=0\n",
        "for i in range(number):\n",
        "  print(name,end=' ')"
      ],
      "execution_count": 41,
      "outputs": [
        {
          "output_type": "stream",
          "name": "stdout",
          "text": [
            "Name:  Hayarpi\n",
            "Number: 10\n",
            "Hayarpi Hayarpi Hayarpi Hayarpi Hayarpi Hayarpi Hayarpi Hayarpi Hayarpi Hayarpi "
          ]
        }
      ]
    },
    {
      "cell_type": "markdown",
      "metadata": {
        "id": "S74SK5tHZxj5"
      },
      "source": [
        "Problem11. (9 points) The Fibonacci numbers are the sequence below, where the first two numbers are 1, and each\n",
        "number thereafter is the sum of the two preceding numbers. Write a program that asks the\n",
        "user how many Fibonacci numbers to print and then prints that many.\n",
        "\n",
        "  Ֆիբոնաչիի թվերի հաջորդականությունը այնպիսին է, որ առաջին երկու թվերը 1 են, իսկ մնացած թվերը ստացվում ենք նախորդ երկուսի գումարից։ Գրել ծրագիր, որը տպում է օգտատիրոջ կողմից նշված քանակությամբ ֆիբոնաչիի հաջորդականության թվեր առանձնացված ստորակետով, օրինակ՝ 11-ի համար կլինի այսպես․ \n",
        "$$1, 1, 2, 3, 5, 8, 13, 21, 34, 55, 89$$"
      ]
    },
    {
      "cell_type": "code",
      "metadata": {
        "id": "Jce7Z8LAZxnr",
        "colab": {
          "base_uri": "https://localhost:8080/"
        },
        "outputId": "5fdbeb37-cd1a-4b05-a93b-cd3e87bb33d9"
      },
      "source": [
        "numbers = int(input('Enter the number:'))\n",
        "last_number = 1\n",
        "pre_last = 0\n",
        "x = 0\n",
        "for i in range(numbers):\n",
        "  print(x, end=',')\n",
        "  x = pre_last + last_number\n",
        "  pre_last, last_number = last_number, x"
      ],
      "execution_count": 30,
      "outputs": [
        {
          "output_type": "stream",
          "name": "stdout",
          "text": [
            "Enter the number:11\n",
            "0,1,2,3,5,8,13,21,34,55,89,"
          ]
        }
      ]
    },
    {
      "cell_type": "markdown",
      "metadata": {
        "id": "chqWLQtkZxro"
      },
      "source": [
        "Problem12. (9 points) Write a program that asks the user to enter a value $n$, and then prints the value for $1+\\frac{1}{2}+\\frac{1}{3}+\\ldots+\\frac{1}{n}$. \n",
        "\n",
        "  Գրել ծրագիր, որը օգտատիրոջ կողմից մուտքագրված $n$-ի համար կհաշվի հետևյալ արտահայտությունը $1+\\frac{1}{2}+\\frac{1}{3}+\\ldots+\\frac{1}{n}$ և կտպի ստացված արժեքը։\n"
      ]
    },
    {
      "cell_type": "code",
      "metadata": {
        "id": "9zb_Cd3FZ9Ra",
        "outputId": "075ab7d0-f3f4-424c-f7e3-2b898e5cb15a",
        "colab": {
          "base_uri": "https://localhost:8080/"
        }
      },
      "source": [
        "n=int(input(\"Number: \"))\n",
        "s=0\n",
        "for i in range(1,n+1):\n",
        "  s=s+1/i\n",
        "print(s)"
      ],
      "execution_count": 38,
      "outputs": [
        {
          "output_type": "stream",
          "name": "stdout",
          "text": [
            "Number: 6\n",
            "2.4499999999999997\n"
          ]
        }
      ]
    },
    {
      "cell_type": "markdown",
      "metadata": {
        "id": "gM-DuhoCZ9WE"
      },
      "source": [
        "Problem13. (9 points) Write a program to compute the sum $1-2+3-4+\\ldots+1999-2000$ using a **for** loop.\n",
        "\n",
        "  Գրել ծրագիր, որը կհաշվի հետևյալ գումարը $1-2+3-4+\\ldots+1999-2000$ օգտագործելով **for** ցիկլը։"
      ]
    },
    {
      "cell_type": "code",
      "metadata": {
        "id": "xkuGxtT8Z9an",
        "outputId": "671c910e-1f6d-4322-8363-b0799569c61d",
        "colab": {
          "base_uri": "https://localhost:8080/"
        }
      },
      "source": [
        "s=0\n",
        "s1=0\n",
        "for i in range(1,2000,2):\n",
        "  s=s+i\n",
        "for j in range(-2,-2001,-2):\n",
        "  s1=s1+j\n",
        "print(s+s1)"
      ],
      "execution_count": 40,
      "outputs": [
        {
          "output_type": "stream",
          "name": "stdout",
          "text": [
            "-1000\n"
          ]
        }
      ]
    }
  ]
}