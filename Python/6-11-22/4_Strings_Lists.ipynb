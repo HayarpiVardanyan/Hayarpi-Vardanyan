
        "  Անցնել `Hello world` տեքստի վրայով և հաշվել դրա մեջ `l` տառի հաճախականությունը՝ օգտագործելով for ցիկլ։"
      ]
    },
    {
      "cell_type": "code",
      "metadata": {
        "id": "wzUd8m5JdnM9",
        "outputId": "77602b2a-f016-459d-f2d5-00ba282e679d",
        "colab": {
          "base_uri": "https://localhost:8080/"
        }
      },
      "source": [
        "a = \"Hello world\"\n",
        "j=0\n",
        "for i in range(0,len(a)):\n",
        "  if a[i]=='l':\n",
        "    j+=1\n",
        "print(j)\n"
      ],
      "execution_count": 51,
      "outputs": [
        {
          "output_type": "stream",
          "name": "stdout",
          "text": [
            "3\n"
          ]
        }
      ]
    },
    {
      "cell_type": "markdown",
      "metadata": {
        "id": "6tXeS5UjeBAz"
      },
      "source": [
        "2. Write a program that asks the user for a string and prints out the location of each `a`\n",
        "in the string.\n",
        "\n",
        "Գրել ծրագիր, որը վերցնում է օգտատիրոջ կողմից մուտքագրված տեքստը և տպում է նրա մեջ հանդիպող `a` տառի ինդեքսները։"
      ]
    },
    {
      "cell_type": "code",
      "metadata": {
        "id": "dGNg4aXweBHn",
        "outputId": "489bdf43-c9d6-46d1-9a0c-5cfe70745302",
        "colab": {
          "base_uri": "https://localhost:8080/"
        }
      },
      "source": [
        "text=str(input(\"Text:  \"))\n",
        "for i in range(len(text)):\n",
        "  if text[i]=='a':\n",
        "    print(i)"
      ],
      "execution_count": 55,
      "outputs": [
        {
          "output_type": "stream",
          "name": "stdout",
          "text": [
            "Text:  Hayarpi\n",
            "1\n",
            "3\n"
          ]
        }
      ]
    },
    {
      "cell_type": "markdown",
      "metadata": {
        "id": "eWMyyPiheBOH"
      },
      "source": [
        "3. Write a program that asks the user for a string and creates a new string that doubles each character of the original string. For instance, if the user enters `Hello`, the output should be `HHeelllloo`.\n",
        "\n",
        "  Գրել ծրագիր, որը վերցնում է օգտատիրոջ կողմից մուտքագրված տեքստը և պատրաստում է նոր տեքստ, որի մեջ գրված են մուտքագրված բառի տառերը կրկնապատկված։ Օրինակ՝ `Hello` բառի համար կվերադարձնի `HHeelllloo`։"
      ]
    },
    {
      "cell_type": "code",
      "metadata": {
        "id": "0zFYgg9176WO",
        "outputId": "ae58f5a6-d68a-45c0-8921-c295ca4dd116",
        "colab": {
          "base_uri": "https://localhost:8080/"
        }
      },
      "source": [
        "text=str(input(\"Text:  \"))\n",
        "for i in range(len(text)):\n",
        "  print(text[i]*2,end='')"
      ],
      "execution_count": 59,
      "outputs": [
        {
          "output_type": "stream",
          "name": "stdout",
          "text": [
            "Text:  Hello\n",
            "HHeelllloo"
          ]
        }
      ]
    },
    {
      "cell_type": "markdown",
      "metadata": {
        "id": "av88x4pGeEP_"
      },
      "source": [
        "4. Write a program that asks a user for their name and prints it in the following way:\n",
        "\n",
        "  `N Ns Nsh Nsha Nshan`.\n",
        "\n",
        "  Hint: use a for loop.\n",
        "\n",
        "  Գրել ծրագիր, որը վերցնում է օգտատիրոջ անունը և տպում է այն հետևյալ կերպ․\n",
        "\n",
        "  `N Ns Nsh Nsha Nshan`\n",
        "\n",
        "  Հուշում․ օգտագործել for ցիկլ։"
      ]
    },
    {
      "cell_type": "code",
      "metadata": {
        "id": "dLwxBY_Y75aY",
        "outputId": "082f8e06-6b38-4028-c2d7-356e371ace27",
        "colab": {
          "base_uri": "https://localhost:8080/"
        }
      },
      "source": [
        "name=str(input(\"Name: \"))\n",
        "for i in range(len(name)): \n",
        "  print(name[ :i+1],end=' ')\n"
      ],
      "execution_count": 67,
      "outputs": [
        {
          "output_type": "stream",
          "name": "stdout",
          "text": [
            "Name: Hayarpi\n",
            "H Ha Hay Haya Hayar Hayarp Hayarpi "
          ]
        }
      ]
    },
    {
      "cell_type": "markdown",
      "metadata": {
        "id": "rXYFTMoheEVj"
      },
      "source": [
        "5. Write a program that removes all capitalization and common punctuation (`,.;:-?!()\\'\"`) from a\n",
        "string `s`.\n",
        "\n",
        "  Գրել ծրագիր, որը դարձնում է `s` տեքստի մեծատառերը՝ փոքրատառ և ջնջում է տեքստում առկա հետևյալ կետադրական նշանները՝ `,.;:-?!()\\'\"`։"
      ]
    },
    {
      "cell_type": "code",
      "metadata": {
        "id": "IQZ7fRp7eEb2",
        "outputId": "8df3bd09-2dd4-49dd-8bcb-22ef47e577b0",
        "colab": {
          "base_uri": "https://localhost:8080/"
        }
      },
      "source": [
        "from os import replace\n",
        "s=str(input(\"Text: \"))\n",
        "s.lower()\n",
        "for i in ',.;:-?!()\\'\"':\n",
        "  s=s.replace(i,'')\n",
        "print(s)"
      ],
      "execution_count": 80,
      "outputs": [
        {
          "output_type": "stream",
          "name": "stdout",
          "text": [
            "Text: Te';/.x'/;\\t\n",
            "Te/x/\\t\n"
          ]
        }
      ]
    },
    {
      "cell_type": "markdown",
      "metadata": {
        "id": "7bBMNId1eEfg"
      },
      "source": [
        "6. Write a program that, given a string that contains a decimal number, prints out the\n",
        "decimal part of the number. For instance, if given `3.14159`, the program should print out `.14159`.\n",
        "\n",
        "  Գրել ծրագիր, որը վերցնում է տասնորդական թիվ՝ որպես տեքստ և տպում է դրա տասնորդական կարգը, այսինքն՝ օրինակ  `3.14159`-ի համար ծրագիրը պետք է տպի `.14159`։"
      ]
    },
    {
      "cell_type": "code",
      "source": [
        "x=input(\"Number: \")\n",
        "print('.',x[x.index('.')+1:])"
      ],
      "metadata": {
        "id": "lAESabaeaVZ6",
        "outputId": "355f4757-63c9-486e-eb21-4e0a522542ad",
        "colab": {
          "base_uri": "https://localhost:8080/"
        }
      },
      "execution_count": 83,
      "outputs": [
        {
          "output_type": "stream",
          "name": "stdout",
          "text": [
            "Number: 3.14159\n",
            ". 14159\n"
          ]
        }
      ]
    },
    {
      "cell_type": "markdown",
      "metadata": {
        "id": "Jb7430ZK8gkI"
      },
      "source": [
      
          "execution_count": 54
        }
      ]
    },
    {
      "cell_type": "code",
      "metadata": {
        "id": "UEy8SiA-hopZ",
        "colab": {
          "base_uri": "https://localhost:8080/",
          "height": 35
        },
        "outputId": "e4a820a5-8ac5-4bf9-c003-311738de75c9"
      },
      "source": [
        "min([1, 2, 3])"
      ],
      "execution_count": null,
      "outputs": [
        {
          "output_type": "execute_result",
          "data": {
            "text/plain": [
              "1"
            ]
          },
          "metadata": {
            "tags": []
          },
          "execution_count": 55
        }
      ]
    },
    {
      "cell_type": "code",
      "metadata": {
        "id": "O_pocwHIhovQ",
        "colab": {
          "base_uri": "https://localhost:8080/",
          "height": 35
        },
        "outputId": "c641650f-9e5d-4a69-cf2e-f81de3459aef"
      },
      "source": [
        "max([1, 2, 3])"
      ],
      "execution_count": null,
      "outputs": [
        {
          "output_type": "execute_result",
          "data": {
            "text/plain": [
              "3"
            ]
          },
          "metadata": {
            "tags": []
          },
          "execution_count": 56
        }
      ]
    },
    {
      "cell_type": "markdown",
      "metadata": {
        "id": "Bj5NUTdDhgM0"
      },
      "source": [
        "Another option for list reversion, sorting using a built-in function"
      ]
    },
    {
      "cell_type": "code",
      "metadata": {
        "id": "G4wtabfYhgQ_",
        "colab": {
          "base_uri": "https://localhost:8080/",
          "height": 35
        },
        "outputId": "59155ebb-39a7-4b87-cbef-546206e355f5"
      },
      "source": [
        "list(reversed(new_list))"
      ],
      "execution_count": null,
      "outputs": [
        {
          "output_type": "execute_result",
          "data": {
            "text/plain": [
              "['We', 'need', 'a', 'list']"
            ]
          },
          "metadata": {
            "tags": []
          },
          "execution_count": 61
        }
      ]
    },
    {
      "cell_type": "code",
      "metadata": {
        "id": "ivd05C7uhujn",
        "colab": {
          "base_uri": "https://localhost:8080/",
          "height": 35
        },
        "outputId": "e163eddb-d4db-4f0b-ca0f-36e1a5e19ae6"
      },
      "source": [
        "new_list"
      ],
      "execution_count": null,
      "outputs": [
        {
          "output_type": "execute_result",
          "data": {
            "text/plain": [
              "['list', 'a', 'need', 'We']"
            ]
          },
          "metadata": {
            "tags": []
          },
          "execution_count": 58
        }
      ]
    },
    {
      "cell_type": "code",
      "metadata": {
        "id": "rKblTWWxhupA",
        "colab": {
          "base_uri": "https://localhost:8080/",
          "height": 35
        },
        "outputId": "4afd68d7-0a3e-4e14-ad81-6fcf28794157"
      },
      "source": [
        "# another way to sort lists\n",
        "sorted(new_list, key=str.lower, reverse=True)"
      ],
      "execution_count": null,
      "outputs": [
        {
          "output_type": "execute_result",
          "data": {
            "text/plain": [
              "['We', 'need', 'list', 'a']"
            ]
          },
          "metadata": {
            "tags": []
          },
          "execution_count": 59
        }
      ]
    },
    {
      "cell_type": "markdown",
      "metadata": {
        "id": "7Tnj6IAnhuxJ"
      },
      "source": [
        "## Random elements from a list"
      ]
    },
    {
      "cell_type": "markdown",
      "metadata": {
        "id": "T9oyj7p3hzSy"
      },
      "source": [
        "Earlier we learnt about the `random` module. There are some nice functions that work on lists. For example:\n",
        "\n",
        "* `choice(L)` - selects a random item from L"
      ]
    },
    {
      "cell_type": "code",
      "metadata": {
        "id": "nXmd9eYih3GF",
        "colab": {
          "base_uri": "https://localhost:8080/",
          "height": 35
        },
        "outputId": "a33cc1b0-0cd9-4327-899e-6299fe7bf751"
      },
      "source": [
        "import random\n",
        "print(random.choice([0, 1, 2, 3]))"
      ],
      "execution_count": null,
      "outputs": [
        {
          "output_type": "stream",
          "text": [
            "0\n"
          ],
          "name": "stdout"
        }
      ]
    },
    {
      "cell_type": "markdown",
      "metadata": {
        "id": "nOqK-Vlvh3LE"
      },
      "source": [
        "* `sample(L, n)` - selects a group of `n` random items from `L`"
      ]
    },
    {
      "cell_type": "code",
      "metadata": {
        "id": "w6_tLaxqhzX9",
        "colab": {
          "base_uri": "https://localhost:8080/",
          "height": 35
        },
        "outputId": "911c4257-28d0-4d78-d561-3b2a68a02fe7"
      },
      "source": [
        "print(random.sample(['one', 'two', 'three'], 2))"
      ],
      "execution_count": null,
      "outputs": [
        {
          "output_type": "stream",
          "text": [
            "['three', 'one']\n"
          ],
          "name": "stdout"
        }
      ]
    },
    {
      "cell_type": "markdown",
      "metadata": {
        "id": "bAOELClyhzcX"
      },
      "source": [
        "Both `sample()` and `choice()` work on strings as well"
      ]
    },
    {
      "cell_type": "markdown",
      "metadata": {
        "id": "etDO3lEyh_Tm"
      },
      "source": [
        "* `shuffle(L)` - Shuffles the items of `L` **in place**"
      ]
    },
    {
      "cell_type": "code",
      "metadata": {
        "id": "kVNycKi1h_ZO",
        "colab": {
          "base_uri": "https://localhost:8080/",
          "height": 35
        },
        "outputId": "3c658564-ddda-449d-e80c-8b1b287747be"
      },
      "source": [
        "L = ['one', 'two', 'three']\n",
        "random.shuffle(L)\n",
        "print(L)"
      ],
      "execution_count": null,
      "outputs": [
        {
          "output_type": "stream",
          "text": [
            "['two', 'one', 'three']\n"
          ],
          "name": "stdout"
        }
      ]
    },
    {
      "cell_type": "markdown",
      "metadata": {
        "id": "kX7Hk-uZh_eo"
      },
      "source": [
        "## Split, Join strings\n",
        "\n",
        "The `split()` method returns a list of words of a string. The method assumes that words are separated\n",
        "by whitespace or other characters. Here is an example:"
      ]
    },
    {
      "cell_type": "code",
      "metadata": {
        "id": "iEF0ziEdh_kA",
        "colab": {
          "base_uri": "https://localhost:8080/",
          "height": 35
        },
        "outputId": "016c815f-09b1-4cd9-ca59-e4fcd25b8d70"
      },
      "source": [
        "s = 'Here are some words.'\n",
        "print(s.split())"
      ],
      "execution_count": null,
      "outputs": [
        {
          "output_type": "stream",
          "text": [
            "['Here', 'are', 'some', 'words.']\n"
          ],
          "name": "stdout"
        }
      ]
    },
    {
      "cell_type": "code",
      "metadata": {
        "id": "FE_OerdOhu1y",
        "colab": {
          "base_uri": "https://localhost:8080/",
          "height": 35
        },
        "outputId": "d388a200-75f7-4036-ef54-88994a887f59"
      },
      "source": [
        "s = 'Here - are - some - words.'\n",
        "print(s.split(' - '))"
      ],
      "execution_count": null,
      "outputs": [
        {
          "output_type": "stream",
          "text": [
            "['Here', 'are', 'some', 'words.']\n"
          ],
          "name": "stdout"
        }
      ]
    },
    {
      "cell_type": "markdown",
      "metadata": {
        "id": "qjN4t1XkiNeX"
      },
      "source": [
        "The `join()` method is the opposite of `split()`. It is a string method that takes a `list of strings` and **joins them together** into a single string. Here are some examples:"
      ]
    },
    {
      "cell_type": "code",
      "metadata": {
        "id": "6GI8A07ziNjQ",
        "colab": {
          "base_uri": "https://localhost:8080/",
          "height": 35
        },
        "outputId": "2213c22a-ab35-42e1-e41c-6be6d4c77ebf"
      },
      "source": [
        "L = ['a', 'b', 'c']\n",
        "print(''.join(L))"
      ],
      "execution_count": null,
      "outputs": [
        {
          "output_type": "stream",
          "text": [
            "abc\n"
          ],
          "name": "stdout"
        }
      ]
    },
    {
      "cell_type": "code",
      "metadata": {
        "id": "Hr3v5_k8iNoZ",
        "colab": {
          "base_uri": "https://localhost:8080/",
          "height": 35
        },
        "outputId": "95b81ec1-26e4-414f-fc09-5b7cede94551"
      },
      "source": [
        "print(' '.join(L))"
      ],
      "execution_count": null,
      "outputs": [
        {
          "output_type": "stream",
          "text": [
            "a b c\n"
          ],
          "name": "stdout"
        }
      ]
    },
    {
      "cell_type": "code",
      "metadata": {
        "id": "ya-yLEyXiNs8",
        "colab": {
          "base_uri": "https://localhost:8080/",
          "height": 35
        },
        "outputId": "6b972671-77a7-40a2-dd80-4c3aee11d63d"
      },
      "source": [
        "print('-|-'.join(L))"
      ],
      "execution_count": null,
      "outputs": [
        {
          "output_type": "stream",
          "text": [
            "a-|-b-|-c\n"
          ],
          "name": "stdout"
        }
      ]
    },
    {
      "cell_type": "markdown",
      "metadata": {
        "id": "PSIkVXNPiNxd"
      },
      "source": [
        "# List comprehensions\n",
        "\n",
        "List comprehensions are a powerful way to create lists using a **for** loop in one line. Here is a simple example:"
      ]
    },
    {
      "cell_type": "code",
      "metadata": {
        "id": "DuAwpX6SiUNs",
        "colab": {
          "base_uri": "https://localhost:8080/",
          "height": 35
        },
        "outputId": "68a751de-3630-4451-d7db-47a637ba38f9"
      },
      "source": [
        "L = [i for i in range(5)]\n",
        "print(L)\n",
        "\n",
        "# L = []\n",
        "# for i in range(5):\n",
        "#   L += [i]\n",
        "# print(L)"
      ],
      "execution_count": null,
      "outputs": [
        {
          "output_type": "stream",
          "text": [
            "[0, 1, 2, 3, 4]\n"
          ],
          "name": "stdout"
        }
      ]
    },
    {
      "cell_type": "code",
      "metadata": {
        "id": "04MAN2j6iUSU",
        "colab": {
          "base_uri": "https://localhost:8080/",
          "height": 35
        },
        "outputId": "8523780a-d95c-4a35-a34d-8872799984d2"
      },
      "source": [
        "[0 for i in range(10)]"
      ],
      "execution_count": null,
      "outputs": [
        {
          "output_type": "execute_result",
          "data": {
            "text/plain": [
              "[0, 0, 0, 0, 0, 0, 0, 0, 0, 0]"
            ]
          },
          "metadata": {
            "tags": []
          },
          "execution_count": 75
        }
      ]
    },
    {
      "cell_type": "code",
      "metadata": {
        "id": "N7JHB6nSiUW2",
        "colab": {
          "base_uri": "https://localhost:8080/",
          "height": 35
        },
        "outputId": "644e1063-898c-4d85-c62d-26695a095df5"
      },
      "source": [
        "[i**3 for i in range(1,8)]"
      ],
      "execution_count": null,
      "outputs": [
        {
          "output_type": "execute_result",
          "data": {
            "text/plain": [
              "[1, 8, 27, 64, 125, 216, 343]"
            ]
          },
          "metadata": {
            "tags": []
          },
          "execution_count": 76
        }
      ]
    },
    {
      "cell_type": "code",
      "metadata": {
        "id": "OhyXREK7iUbM",
        "colab": {
          "base_uri": "https://localhost:8080/",
          "height": 35
        },
        "outputId": "9d473f15-7586-4689-f97b-d50008a2d751"
      },
      "source": [
        "[i*10 for i in L]"
      ],
      "execution_count": null,
      "outputs": [
        {
          "output_type": "execute_result",
          "data": {
            "text/plain": [
              "[0, 10, 20, 30, 40]"
            ]
          },
          "metadata": {
            "tags": []
          },
          "execution_count": 77
        }
      ]
    },
    {
      "cell_type": "code",
      "metadata": {
        "id": "2YRNDPAdiUgW",
        "colab": {
          "base_uri": "https://localhost:8080/",
          "height": 35
        },
        "outputId": "6c57df78-7ee3-40e2-d2b6-78b5de27f3ca"
      },
      "source": [
        "string = 'Hello'\n",
        "[c*2 for c in string]"
      ],
      "execution_count": null,
      "outputs": [
        {
          "output_type": "execute_result",
          "data": {
            "text/plain": [
              "['HH', 'ee', 'll', 'll', 'oo']"
            ]
          },
          "metadata": {
            "tags": []
          },
          "execution_count": 78
        }
      ]
    },
    {
      "cell_type": "code",
      "metadata": {
        "id": "7yWbEUE9ic3t",
        "colab": {
          "base_uri": "https://localhost:8080/",
          "height": 35
        },
        "outputId": "d53e40fa-e953-4a30-b4ba-b9fcf248deb9"
      },
      "source": [
        "k = ['one', 'two', 'three', 'four', 'five', 'six']\n",
        "[m[0] for m in k]"
      ],
      "execution_count": null,
      "outputs": [
        {
          "output_type": "execute_result",
          "data": {
            "text/plain": [
              "['o', 't', 't', 'f', 'f', 's']"
            ]
          },
          "metadata": {
            "tags": []
          },
          "execution_count": 79
        }
      ]
    },
    {
      "cell_type": "markdown",
      "metadata": {
        "id": "uOll08iIic8l"
      },
      "source": [
        "Combining a **ternary operator** in list comprehensions."
      ]
    },
    {
      "cell_type": "code",
      "metadata": {
        "id": "PIB6prGSidBJ",
        "colab": {
          "base_uri": "https://localhost:8080/",
          "height": 35
        },
        "outputId": "92ae9105-7db7-4031-b051-3ad9501d8293"
      },
      "source": [
        "L"
      ],
      "execution_count": null,
      "outputs": [
        {
          "output_type": "execute_result",
          "data": {
            "text/plain": [
              "[0, 1, 2, 3, 4]"
            ]
          },
          "metadata": {
            "tags": []
          },
          "execution_count": 80
        }
      ]
    },
    {
      "cell_type": "code",
      "metadata": {
        "id": "it5OFUZRidGM",
        "colab": {
          "base_uri": "https://localhost:8080/",
          "height": 35
        },
        "outputId": "6685c598-f80e-48db-a997-de998ae4992b"
      },
      "source": [
        "[i for i in L if i < 4]"
      ],
      "execution_count": null,
      "outputs": [
        {
          "output_type": "execute_result",
          "data": {
            "text/plain": [
              "[0, 1, 2, 3]"
            ]
          },
          "metadata": {
            "tags": []
          },
          "execution_count": 81
        }
      ]
    },
    {
      "cell_type": "code",
      "metadata": {
        "id": "qhmUM-zlihRT",
        "colab": {
          "base_uri": "https://localhost:8080/",
          "height": 35
        },
        "outputId": "2965452f-ccde-427c-d9ce-31bd168c6f62"
      },
      "source": [
        "[m[0] for m in k if len(m) == 3]"
      ],
      "execution_count": null,
      "outputs": [
        {
          "output_type": "execute_result",
          "data": {
            "text/plain": [
              "['o', 't', 's']"
            ]
          },
          "metadata": {
            "tags": []
          },
          "execution_count": 82
        }
      ]
    },
    {
      "cell_type": "markdown",
      "metadata": {
        "id": "Aur5YJOCihXg"
      },
      "source": [
        "The above code could be written in the ordinary way like this:"
      ]
    },
    {
      "cell_type": "code",
      "metadata": {
        "id": "WtUX_JHiihcH",
        "colab": {
          "base_uri": "https://localhost:8080/",
          "height": 35
        },
        "outputId": "ee4f7be5-751f-4850-bd40-b8e0591162c5"
      },
      "source": [
        "L = []\n",
        "for m in k:\n",
        "  if len(m) == 3:\n",
        "    L.append(m[0])\n",
        "print(L)"
      ],
      "execution_count": null,
      "outputs": [
        {
          "output_type": "stream",
          "text": [
            "['o', 't', 's']\n"
          ],
          "name": "stdout"
        }
      ]
    },
    {
      "cell_type": "code",
      "metadata": {
        "id": "vdvMc4XhdR-o",
        "colab": {
          "base_uri": "https://localhost:8080/",
          "height": 35
        },
        "outputId": "e17a3757-326e-465e-ef41-c3a70355db79"
      },
      "source": [
        "[m[0] if len(m) == 3 else 'ok' for m in k]"
      ],
      "execution_count": null,
      "outputs": [
        {
          "output_type": "execute_result",
          "data": {
            "text/plain": [
              "['o', 't', 'ok', 'ok', 'ok', 's']"
            ]
          },
          "metadata": {
            "tags": []
          },
          "execution_count": 85
        }
      ]
    },
    {
      "cell_type": "markdown",
      "metadata": {
        "id": "x_SWDZKRihhp"
      },
      "source": [
        "We can use more than one **for** loop in a list comprehension:"
      ]
    },
    {
      "cell_type": "code",
      "metadata": {
        "id": "SkCN5KaIjJ3e",
        "colab": {
          "base_uri": "https://localhost:8080/",
          "height": 35
        },
        "outputId": "3a764bf6-7bbe-4964-a10c-3582517f44c3"
      },
      "source": [
        "L = [[i,j] for i in range(2) for j in range(2)]\n",
        "print(L)"
      ],
      "execution_count": null,
      "outputs": [
        {
          "output_type": "stream",
          "text": [
            "[[0, 0], [0, 1], [1, 0], [1, 1]]\n"
          ],
          "name": "stdout"
        }
      ]
    },
    {
      "cell_type": "markdown",
      "metadata": {
        "id": "eddZyETAjJ8V"
      },
      "source": [
        "This is the equivalent of the following code:"
      ]
    },
    {
      "cell_type": "code",
      "metadata": {
        "id": "Tec4VQTwjKCI",
        "colab": {
          "base_uri": "https://localhost:8080/",
          "height": 35
        },
        "outputId": "7c7c4c8e-c75d-4a27-ad51-bd36a0c49b8f"
      },
      "source": [
        "L = []\n",
        "for i in range(2):\n",
        "  for j in range(2):\n",
        "    L.append([i, j])\n",
        "print(L)"
      ],
      "execution_count": null,
      "outputs": [
        {
          "output_type": "stream",
          "text": [
            "[[0, 0], [0, 1], [1, 0], [1, 1]]\n"
          ],
          "name": "stdout"
        }
      ]
    },
    {
      "cell_type": "markdown",
      "metadata": {
        "id": "KcQtzyjMjKKj"
      },
      "source": [
        "Here is another example:"
      ]
    },
    {
      "cell_type": "code",
      "metadata": {
        "id": "jR2qVV3sjQS1"
      },
      "source": [
        "[[i, j] for i in range(1, 4) for j in range(i)]"
      ],
      "execution_count": null,
      "outputs": []
    },
    {
      "cell_type": "markdown",
      "metadata": {
        "id": "REQ_kbRfjSnh"
      },
      "source": [
        "## Two-dimensional lists\n",
        "\n",
        "We can nest lists and other object types within lists. For example, we can use nested lists to represent matrices"
      ]
    },
    {
      "cell_type": "code",
      "metadata": {
        "id": "fKwcAv3djSij"
      },
      "source": [
        "matrix = [[1, 2, 3],\n",
        "          [4, 5, 6],\n",
        "          [7, 8, 9]]\n",
        "\n",
        "# or in one line \n",
        "# matrix = [[1, 2, 3], [4, 5, 6], [7, 8, 9]]"
      ],
      "execution_count": null,
      "outputs": []
    },
    {
      "cell_type": "code",
      "metadata": {
        "id": "8yok4faUgF6s",
        "colab": {
          "base_uri": "https://localhost:8080/",
          "height": 35
        },
        "outputId": "0011f849-ce7f-4434-c261-de6453cf5674"
      },
      "source": [
        "[i[j] for i in matrix for j in range(len(i))]"
      ],
      "execution_count": null,
      "outputs": [
        {
          "output_type": "execute_result",
          "data": {
            "text/plain": [
              "[1, 2, 3, 4, 5, 6, 7, 8, 9]"
            ]
          },
          "metadata": {
            "tags": []
          },
          "execution_count": 100
        }
      ]
    },
    {
      "cell_type": "markdown",
      "metadata": {
        "id": "qrqgXTKQjZPs"
      },
      "source": [
        "With one index we get one row (a nested sublist)\n"
      ]
    },
    {
      "cell_type": "code",
      "metadata": {
        "id": "MYxUki62jZUg",
        "colab": {
          "base_uri": "https://localhost:8080/",
          "height": 35
        },
        "outputId": "63675063-d238-49c8-fea7-71751780b21f"
      },
      "source": [
        "matrix[2]"
      ],
      "execution_count": null,
      "outputs": [
        {
          "output_type": "execute_result",
          "data": {
            "text/plain": [
              "[7, 8, 9]"
            ]
          },
          "metadata": {
            "tags": []
          },
          "execution_count": 92
        }
      ]
    },
    {
      "cell_type": "markdown",
      "metadata": {
        "id": "HgcEfhn8jZKM"
      },
      "source": [
        "With two indices we get an item within the row"
      ]
    },
    {
      "cell_type": "code",
      "metadata": {
        "id": "bik_QUETjQXd",
        "colab": {
          "base_uri": "https://localhost:8080/",
          "height": 52
        },
        "outputId": "659adc12-619e-4df6-9553-eb4ed254a22a"
      },
      "source": [
        "print(matrix[2][1])\n",
        "print(matrix[1][1])"
      ],
      "execution_count": null,
      "outputs": [
        {
          "output_type": "stream",
          "text": [
            "8\n",
            "5\n"
          ],
          "name": "stdout"
        }
      ]
    },
    {
      "cell_type": "markdown",
      "metadata": {
        "id": "AFZiefNKjga_"
      },
      "source": [
        "We can process the items of a two-dimensional lists using nested for loops"
      ]
    },
    {
      "cell_type": "code",
      "metadata": {
        "id": "y7iMtaYSjghN",
        "colab": {
          "base_uri": "https://localhost:8080/",
          "height": 35
        },
        "outputId": "024bd886-0701-4a8e-f556-b017349d31e9"
      },
      "source": [
        "for row in matrix:\n",
        "  for j in row:\n",
        "    print(j, end=\" \")"
      ],
      "execution_count": null,
      "outputs": [
        {
          "output_type": "stream",
          "text": [
            "1 2 3 4 5 6 7 8 9 "
          ],
          "name": "stdout"
        }
      ]
    },
    {
      "cell_type": "markdown",
      "metadata": {
        "id": "gLMmqO5CgUHo"
      },
      "source": [
        "# Exercise\n",
        "\n",
        "1. Write a program that removes the repeated items from a list and leaves only the unique values in the initial order.\n",
        "\n",
        "  Գրել ծրագիր, որը կվերադարձնի list-ի յուրաքանչյուր տարր առանց կրկնության։"
      ]
    },
    {
      "cell_type": "code",
      "metadata": {
        "id": "pU5e6G5CgyKm"
      },
      "source": [],
      "execution_count": null,
      "outputs": []
    },
    {
      "cell_type": "markdown",
      "metadata": {
        "id": "UhX_mAUchg1u"
      },
      "source": [
        "2. Write a program that counts the number of occurances of each item in the list. \n",
        "\n",
        "  Գրել ծրագիր, որը կհաշվի list-ի տարրերի հաճախականությունները։"
      ]
    },
    {
      "cell_type": "code",
      "metadata": {
        "id": "5BAOgC_ahiOu"
      },
      "source": [],
      "execution_count": null,
      "outputs": []
    },
    {
      "cell_type": "markdown",
      "metadata": {
        "id": "EaAMEzU9iE3g"
      },
      "source": [
        "3. Write a program that generates a list of 50 random numbers between 1 and 100. Count how many items in the list are greater than 50.\n",
        "\n",
        "  Գրել ծրագիր, որը կստեղծի 50 պատահական ամբողջ թիվ 1-100 միջակայքից և կհաշվի 50-ից մեծ թվերի քանակը։"
      ]
    },
    {
      "cell_type": "code",
      "metadata": {
        "id": "gmDLwd2siE9D"
      },
      "source": [],
      "execution_count": null,
      "outputs": []
    },
    {
      "cell_type": "markdown",
      "metadata": {
        "id": "eSrsd0CXjkxY"
      },
      "source": [
        "4. Write a program that prints out the \n",
        "* total number of elements\n",
        "* sum of all elements\n",
        "* two largest and two smallest elements \n",
        "\n",
        "of a list entered by the user.\n",
        "\n",
        "  Գրել ծրագիր, որը կտպի օգտատիրոջ կողմից մուտքագրված list-ի\n",
        "  * ընդհանուր էլեմենտների քանակը\n",
        "  * բոլոր էլեմենտների գումարը\n",
        "  * երկու ամենամեծ և ամենափոքր տարրերը"
      ]
    },
    {
      "cell_type": "code",
      "metadata": {
        "id": "Yz6e3M6xjmwu"
      },
      "source": [],
      "execution_count": null,
      "outputs": []
    }
  ]
}
